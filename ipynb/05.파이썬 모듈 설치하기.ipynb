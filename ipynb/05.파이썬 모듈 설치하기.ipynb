{
 "cells": [
  {
   "cell_type": "markdown",
   "id": "52c003e5",
   "metadata": {},
   "source": [
    "# 파이썬 모듈 설치 방법\n",
    "* 파이썬에서 다양한 모듈(라이브리러, 패키지)을 설치해서 프로그램 만드는 방법을 알아보겠습니다.  \n",
    "* gtts과 pygame 모듈을 설치해야 단어 깜빡이를 만들어보겠습니다. \n",
    "* turtle 모듈을 사용해서 영어와 한글을 순서대로 보여줍니다.\n",
    "* gtts 모듈로 영어 발음과 한글 발음 mp3 파일을 만듭니다.\n",
    "* pygame 모듈로 소리를 재생합니다."
   ]
  },
  {
   "cell_type": "markdown",
   "id": "4e13eb03",
   "metadata": {},
   "source": [
    "## os 모듈 사용법\n",
    "* file이라는 폴더를 만듭니다.\n",
    "* os 모듈로 작업 폴더를 바꿉니다.\n",
    "* os.chdir(r'경로')로 작업 폴더를 바꿉니다.\n",
    "* 경로를 지정할 때 r을 사용하면 탐색기 폴더에 있는 경로를 그대로 복사해서 사용할 수 있습니다.\n",
    "    * 문자열 앞에 r 또는 R을 붙이면 raw 문자열이 됩니다. \n",
    "    * 이 raw 문자열은 이스케이프 문자를 그대로 사용합니다.\n",
    "    * 이스케이프 문자는 이스케이프 시퀀스를 따르는 문자들로서 다음 문자가 특수 문자임을 알리는 백슬래시를 사용합니다.\n",
    "* os.getcwd()로 경로를 확인합니다."
   ]
  },
  {
   "cell_type": "code",
   "execution_count": null,
   "id": "fc55beea",
   "metadata": {},
   "outputs": [],
   "source": [
    "import os\n",
    "\n",
    "os.chdir(r'C:\\file')\n",
    "print(os.getcwd())"
   ]
  },
  {
   "cell_type": "markdown",
   "id": "16fb8c57",
   "metadata": {},
   "source": [
    "* 파일은 열고-파일을 읽거나 쓰고-파일을 닫습니다.\n",
    "* 'w' 모드는 원래 파일이 있으면 다 지우고 새로 파일을 씁니다.\n",
    "* file 폴더에 file.txt 파일이 생깁니다."
   ]
  },
  {
   "cell_type": "code",
   "execution_count": null,
   "id": "892f657c",
   "metadata": {},
   "outputs": [],
   "source": [
    "import os\n",
    "\n",
    "os.chdir(r'C:\\file')\n",
    "f = open(\"file.txt\", \"w\")\n",
    "f.write(\"파이썬\")\n",
    "f.close()"
   ]
  },
  {
   "cell_type": "markdown",
   "id": "59cd2a3c",
   "metadata": {},
   "source": [
    "* 파일을 추가하고 싶을 때는 ‘a’모드를 사용합니다.\n",
    "* 줄을 바꿔서 파일을 쓰고 싶을 때는 \\n을 사용합니다.(개행문자)"
   ]
  },
  {
   "cell_type": "code",
   "execution_count": null,
   "id": "cf47dc84",
   "metadata": {},
   "outputs": [],
   "source": [
    "import os\n",
    "\n",
    "os.chdir(r'C:\\file')\n",
    "f = open(\"file.txt\", \"a\")\n",
    "f.write(\"\\n\")\n",
    "f.write(\"줄을 바꾸기\")\n",
    "f.close()"
   ]
  },
  {
   "cell_type": "markdown",
   "id": "18392401",
   "metadata": {},
   "source": [
    "* with를 사용하면 close를 사용하지 않아도 됩니다.\n",
    "* 파일을 열고 정한 객체 이름으로 사용합니다."
   ]
  },
  {
   "cell_type": "code",
   "execution_count": null,
   "id": "6e801443",
   "metadata": {},
   "outputs": [],
   "source": [
    "import os\n",
    "\n",
    "os.chdir(r'C:\\file')\n",
    "with open(\"file-open.txt\", \"w\") as f:\n",
    "    f.write(\"파이썬 코딩\\n\")\n",
    "    f.write(\"드론 코딩\\n\")"
   ]
  },
  {
   "cell_type": "markdown",
   "id": "6256d9b1",
   "metadata": {},
   "source": [
    "## 영어 단어를 입력하는 프로그램 만들기"
   ]
  },
  {
   "cell_type": "code",
   "execution_count": null,
   "id": "12d34916",
   "metadata": {},
   "outputs": [],
   "source": [
    "import os\n",
    "\n",
    "os.chdir(r'C:\\file')\n",
    "\n",
    "while True:\n",
    "    try:\n",
    "        word = input(\"영어단어 : \")\n",
    "        meaning = input(\"그 뜻은 무엇인가요? : \")\n",
    "        with open(\"word.txt\", \"a\") as f:\n",
    "            f.write(word)\n",
    "            f.write(\":\")\n",
    "            f.write(meaning)\n",
    "            f.write(\"\\n\")\n",
    "    except:\n",
    "        pass\n",
    "              \n",
    "    your_input = input(\"입력을 그만하고 싶으면 'q'키를, 그렇지 아니면 다른 키를 누르세요: \")\n",
    "    if your_input == \"q\":\n",
    "        break\n",
    "    else:\n",
    "        continue\n",
    "    \n",
    "print(\"단어를 다 입력했습니다.\")"
   ]
  },
  {
   "cell_type": "markdown",
   "id": "2e9f8f01",
   "metadata": {},
   "source": [
    "## 파일 읽기\n",
    "* readline()로 한 줄씩 읽습니다.\n",
    "* 더이상 읽을 수 있는 라인이 없으면 break 합니다."
   ]
  },
  {
   "cell_type": "code",
   "execution_count": null,
   "id": "b57f4d4b",
   "metadata": {},
   "outputs": [],
   "source": [
    "import os\n",
    "\n",
    "os.chdir(r'C:\\file')\n",
    "\n",
    "with open(\"word.txt\", \"r\") as f:\n",
    "    while True:\n",
    "        line = f.readline()\n",
    "        if not line:\n",
    "            break\n",
    "        print(line)"
   ]
  },
  {
   "cell_type": "markdown",
   "id": "c40562ec",
   "metadata": {},
   "source": [
    "* readlines()로 여러 줄을 읽을 수 있습니다.\n",
    "* readlines()로 읽으면 리스트가 됩니다."
   ]
  },
  {
   "cell_type": "code",
   "execution_count": null,
   "id": "79a8df01",
   "metadata": {},
   "outputs": [],
   "source": [
    "import os\n",
    "\n",
    "os.chdir(r'C:\\file')\n",
    "\n",
    "with open(\"word.txt\", \"r\") as f:\n",
    "    lines = f.readlines()\n",
    "    print(lines)"
   ]
  },
  {
   "cell_type": "markdown",
   "id": "e6d7dfef",
   "metadata": {},
   "source": [
    "## turtle로 글자 그리는 법 알기\n",
    "* turtle.write(\"글자\", move=False, align=\"center\", font=(\"폰트\", 크기, \"폰트형태\")로 글자를 그립니다. \n",
    "* move를 False로 해서 움직이지 않도록 합니다. \n",
    "* turtle.clear()를 하면 화면에서 그렸던 것이 지워집니다.\n",
    "* turtle.color(\"색깔\")로 글자색을 정합니다."
   ]
  },
  {
   "cell_type": "code",
   "execution_count": null,
   "id": "41bf37ff",
   "metadata": {},
   "outputs": [],
   "source": [
    "from turtle import *\n",
    "\n",
    "write(\"파이썬\", move=False, align=\"center\", font=(\"Arial\", 100, \"normal\"))\n",
    "exitonclick()"
   ]
  },
  {
   "cell_type": "markdown",
   "id": "f461167d",
   "metadata": {},
   "source": [
    "* 영어 단어와 뜻이 정리된 word.txt를 사용합니다.\n",
    "* 영어 단어와 뜻을 딕셔너리로 정리해서 깜빡이를 만듭니다."
   ]
  },
  {
   "cell_type": "code",
   "execution_count": null,
   "id": "ae765843",
   "metadata": {},
   "outputs": [],
   "source": [
    "import os\n",
    "from turtle import *\n",
    "from time import sleep\n",
    "\n",
    "os.chdir(r'C:\\file')"
   ]
  },
  {
   "cell_type": "code",
   "execution_count": null,
   "id": "d60f4d6e",
   "metadata": {},
   "outputs": [],
   "source": [
    "with open('word.txt', 'r') as f:\n",
    "    lines = f.readlines() #lines는 리스트다.\n",
    "    for i in range(len(lines)):\n",
    "        en = lines[i].split(':')[0] #영어단어다. \n",
    "        ko = lines[i].split(':')[1].split('\\n')[0] #한글에서 \\n을 없애야 한다. \\n가 줄바꿈이다.\n",
    "        # 영어를 먼저 쓴다.\n",
    "        color(\"white\") #글씨를 흰색으로 정한다.\n",
    "        bgcolor(\"black\") #배경을 검은색으로 정한다.\n",
    "        write(en, move=False, align=\"center\", font=(\"Arial\", 100, \"normal\"))\n",
    "        sleep(1) #1초 기다리기\n",
    "        clear() # 지우기\n",
    "        \n",
    "        # 한글을 쓴다.\n",
    "        color(\"orange\")\n",
    "        bgcolor(\"white\") #글씨를 검은색으로 정한다.\n",
    "        write(ko , move=False, align=\"center\", font=(\"Arial\", 100, \"normal\"))\n",
    "        sleep(1) #1초 기다리기\n",
    "        clear() # 지우기\n",
    "        \n",
    "exitonclick()"
   ]
  },
  {
   "cell_type": "markdown",
   "id": "d0ae8c21",
   "metadata": {},
   "source": [
    "## mp3 파일 만들기\n",
    "* pip로 필요한 모듈을 설치하거나 삭제합니다.\n",
    "* 윈도우 검색창에 cmd라고 검색하고 관리자 권한으로 실행합니다.\n",
    "* pip install 모듈이름으로 설치합니다.\n",
    "* pip uninstall 모듈이름으로 삭제합니다.\n",
    "* 주피터 노트북에서는 !를 붙입니다.\n",
    "* ```pip install gtts```으로 gtts 모듈을 설치합니다.\n",
    "    * gtts는 구글에서 제공하는 라이브러리로 입력한 글자를 소리 파일을 만들어 줍니다. \n",
    "* ```pip install pygame```으로 pygame 모듈을 설치합니다.\n",
    "    * pygame 모듈로 소리를 냅니다.\n",
    "     "
   ]
  },
  {
   "cell_type": "code",
   "execution_count": null,
   "id": "b700e189",
   "metadata": {},
   "outputs": [],
   "source": [
    "!pip install gtts "
   ]
  },
  {
   "cell_type": "code",
   "execution_count": null,
   "id": "4e2d9054",
   "metadata": {},
   "outputs": [],
   "source": [
    "!pip install pygame"
   ]
  },
  {
   "cell_type": "markdown",
   "id": "76a814bc",
   "metadata": {},
   "source": [
    "* apple 발음으로 apple.mp3 파일을 하나 만들어 보겠습니다."
   ]
  },
  {
   "cell_type": "code",
   "execution_count": null,
   "id": "484d23a1",
   "metadata": {},
   "outputs": [],
   "source": [
    "from gtts import gTTS\n",
    "\n",
    "audio = \"apple.mp3\" # 파일 이름 정하기\n",
    "language = \"en\" #언어 정하기 / 한글은 ko\n",
    "speach = gTTS(lang = language, text = \"apple\", slow=False) #text에 입력한 글자로 소리를 만들기\n",
    "speach.save(audio)"
   ]
  },
  {
   "cell_type": "markdown",
   "id": "a03d1367",
   "metadata": {},
   "source": [
    "* 영어 mp3 파일을 만듭니다."
   ]
  },
  {
   "cell_type": "code",
   "execution_count": null,
   "id": "f9865d34",
   "metadata": {},
   "outputs": [],
   "source": [
    "with open('word.txt', 'r') as f:\n",
    "    lines = f.readlines() #lines는 리스트다.\n",
    "    for i in range(len(lines)):\n",
    "        en = lines[i].split(':')[0] #영어 \n",
    "        file_name = en+\".mp3\"\n",
    "        audio = file_name\n",
    "        language = \"en\"\n",
    "        speach = gTTS(lang = language, text = en, slow=False)\n",
    "        speach.save(audio)"
   ]
  },
  {
   "cell_type": "markdown",
   "id": "af051443",
   "metadata": {},
   "source": [
    "* 한글 mp3 파일을 만듭니다."
   ]
  },
  {
   "cell_type": "code",
   "execution_count": null,
   "id": "3dc88e1c",
   "metadata": {},
   "outputs": [],
   "source": [
    "with open('word.txt', 'r') as f:\n",
    "    lines = f.readlines() #lines는 리스트다.\n",
    "    for i in range(len(lines)):\n",
    "        ko = lines[i].split(':')[1].split('\\n')[0]\n",
    "        file_name = ko+\".mp3\"\n",
    "        audio = file_name\n",
    "        language = \"ko\"\n",
    "        speach = gTTS(lang = language, text = ko, slow=False)\n",
    "        speach.save(audio)"
   ]
  },
  {
   "cell_type": "markdown",
   "id": "5aa5b903",
   "metadata": {},
   "source": [
    "* pygame으로 소리를 냅니다."
   ]
  },
  {
   "cell_type": "code",
   "execution_count": null,
   "id": "82d3b0b1",
   "metadata": {},
   "outputs": [],
   "source": [
    "import pygame\n",
    " \n",
    "music_files = ['apple.mp3', 'banana.mp3']\n",
    "pygame.mixer.init() #초기화하기\n",
    "\n",
    "for i in range(len(music_files)):\n",
    "    pygame.mixer.music.load(music_files[i]) #소리 파일을 가져오기\n",
    "    pygame.mixer.music.play() #재생하기\n",
    "    sleep(2) #2초 기다리기"
   ]
  },
  {
   "cell_type": "code",
   "execution_count": null,
   "id": "dfde10fd",
   "metadata": {},
   "outputs": [],
   "source": [
    "with open('word.txt', 'r') as f:\n",
    "    lines = f.readlines()\n",
    "    for i in range(len(lines)):\n",
    "        en = lines[i].split(':')[0]\n",
    "        ko = lines[i].split(':')[1].split('\\n')[0] \n",
    "        pygame.mixer.music.load(en+\".mp3\") \n",
    "        pygame.mixer.music.play()\n",
    "        color(\"white\")\n",
    "        bgcolor(\"black\")\n",
    "        write(en, move=False, align=\"center\", font=(\"Arial\", 100, \"normal\"))\n",
    "        sleep(1) \n",
    "        clear()\n",
    "        \n",
    "        color(\"orange\")\n",
    "        bgcolor(\"white\") \n",
    "        write(ko , move=False, align=\"center\", font=(\"Arial\", 100, \"normal\"))\n",
    "        pygame.mixer.music.load(ko+\".mp3\") \n",
    "        pygame.mixer.music.play()\n",
    "        sleep(1) \n",
    "        clear() \n",
    "\n",
    "exitonclick()"
   ]
  }
 ],
 "metadata": {
  "kernelspec": {
   "display_name": "Python 3 (ipykernel)",
   "language": "python",
   "name": "python3"
  },
  "language_info": {
   "codemirror_mode": {
    "name": "ipython",
    "version": 3
   },
   "file_extension": ".py",
   "mimetype": "text/x-python",
   "name": "python",
   "nbconvert_exporter": "python",
   "pygments_lexer": "ipython3",
   "version": "3.11.5"
  }
 },
 "nbformat": 4,
 "nbformat_minor": 5
}
